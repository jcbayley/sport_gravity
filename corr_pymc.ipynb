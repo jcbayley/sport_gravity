{
 "cells": [
  {
   "cell_type": "code",
   "execution_count": null,
   "id": "be14a6c2-f58d-411d-a2d8-322c9a686da2",
   "metadata": {},
   "outputs": [],
   "source": [
    "import numpy as np\n",
    "import scipy\n",
    "import matplotlib.pyplot as pl\n",
    "import corner\n",
    "import pymc as pm\n",
    "import arviz as az\n",
    "import pandas as pd\n",
    "import seaborn"
   ]
  },
  {
   "cell_type": "code",
   "execution_count": null,
   "metadata": {},
   "outputs": [],
   "source": [
    "%matplotlib widget"
   ]
  },
  {
   "cell_type": "code",
   "execution_count": null,
   "id": "069d632f",
   "metadata": {},
   "outputs": [],
   "source": [
    "df = pd.ExcelFile(\"./Data/Speed Skating Gravity V2.xlsx\").parse('10,000m M')"
   ]
  },
  {
   "cell_type": "code",
   "execution_count": null,
   "id": "07b680bc",
   "metadata": {},
   "outputs": [],
   "source": [
    "df2 =pd.DataFrame({\"altitude\":[], \"gravity\":[], \"year\":[], \"finish_time\":[], \"type\":[]})"
   ]
  },
  {
   "cell_type": "code",
   "execution_count": null,
   "id": "460ba4ee",
   "metadata": {},
   "outputs": [],
   "source": [
    "for index, row in df.iterrows():\n",
    "    if index == 0:\n",
    "        continue\n",
    "    # get colums we are interested in\n",
    "    alt = row['Unnamed: 4']\n",
    "    year = row['Unnamed: 3']\n",
    "    grav = row['Unnamed: 5']\n",
    "\n",
    "    # if value is a nan then ignore it\n",
    "    if np.isnan(alt) or np.isnan(year) or np.isnan(grav):\n",
    "        continue\n",
    "\n",
    "    # only select a few of the events\n",
    "    ftime_names = [\"Olympics\", 'World Single Distances','World Allrounds']\n",
    "    ftime = None\n",
    "    event = \"\"\n",
    "    for ft in ftime_names:\n",
    "        if np.isnan(row[ft]):\n",
    "            continue\n",
    "        else:\n",
    "            ftime = row[ft]\n",
    "            event = ft\n",
    "            break\n",
    "    if ftime is None:\n",
    "        continue\n",
    "    else:\n",
    "        df2 = df2.append({\"altitude\":alt, \"gravity\":grav, \"year\":year, \"finish_time\":ftime, \"type\":event},ignore_index=True)"
   ]
  },
  {
   "cell_type": "code",
   "execution_count": null,
   "id": "24f7deb7",
   "metadata": {},
   "outputs": [],
   "source": [
    "#df2 = pd.read_csv(\"./spk_10000_dat.csv\")"
   ]
  },
  {
   "cell_type": "code",
   "execution_count": null,
   "id": "2e92daad",
   "metadata": {},
   "outputs": [],
   "source": [
    "# ignore the one event with gravity around 8.8 (not sure what this one is)\n",
    "dff = df2[df2[\"gravity\"] > 9.0]"
   ]
  },
  {
   "cell_type": "code",
   "execution_count": null,
   "metadata": {},
   "outputs": [],
   "source": [
    "dff"
   ]
  },
  {
   "cell_type": "code",
   "execution_count": null,
   "metadata": {},
   "outputs": [],
   "source": [
    "# have a look at all the data to see if any obvious correlations by eye\n",
    "seaborn.pairplot(dff,  vars=[\"altitude\", \"gravity\", \"year\", \"finish_time\"])"
   ]
  },
  {
   "cell_type": "code",
   "execution_count": null,
   "id": "61b52544",
   "metadata": {},
   "outputs": [],
   "source": [
    "fig, ax = plt.subplots()\n",
    "ax.plot(dff[\"gravity\"], dff[\"finish_time\"],\".\")\n",
    "#ax.plot(df2[\"gravity\"], df2[\"finish_time\"],\".\")"
   ]
  },
  {
   "cell_type": "code",
   "execution_count": null,
   "id": "d169a96d",
   "metadata": {},
   "outputs": [],
   "source": [
    "fig, ax = plt.subplots()\n",
    "ax.plot(dff[\"altitude\"], dff[\"finish_time\"],\".\")"
   ]
  },
  {
   "cell_type": "code",
   "execution_count": null,
   "id": "b407b54b",
   "metadata": {},
   "outputs": [],
   "source": [
    "fig, ax = plt.subplots()\n",
    "ax.plot(dff[\"year\"], dff[\"finish_time\"],\".\")"
   ]
  },
  {
   "cell_type": "code",
   "execution_count": null,
   "id": "44477d92",
   "metadata": {},
   "outputs": [],
   "source": [
    "#df2.to_csv(\"./spk_10000_dat.csv\")"
   ]
  },
  {
   "cell_type": "code",
   "execution_count": null,
   "id": "a7a25f8e",
   "metadata": {},
   "outputs": [],
   "source": [
    "def data_model(xg,xa,xy,mg,ma,my,c):\n",
    "    \"\"\"Defines the model of a plane with the output being the finish time\n",
    "\n",
    "    Args:\n",
    "        xg (_type_): xpositions for gravity\n",
    "        xa (_type_): xposiitions for altitude\n",
    "        xy (_type_): x positions for year\n",
    "        mg (_type_): gradient for gravity\n",
    "        ma (_type_): gradient for altitude\n",
    "        my (_type_): gradient for year\n",
    "        c (_type_): offset\n",
    "\n",
    "    Returns:\n",
    "        _type_: finish time\n",
    "    \"\"\"\n",
    "    return mg*xg + ma*xa + my*xy +c"
   ]
  },
  {
   "cell_type": "markdown",
   "metadata": {},
   "source": [
    "Create the pymc model and run mcmc to get the posterior distribution"
   ]
  },
  {
   "cell_type": "code",
   "execution_count": null,
   "id": "3b6985d8",
   "metadata": {},
   "outputs": [],
   "source": [
    "aoff = 700\n",
    "goff = 9.8\n",
    "yoff = 2010\n",
    "with pm.Model() as gauss_mod:\n",
    "    # shift x values so offset is defines at the center of dataset\n",
    "    # this can make the posteior easier to sample (more gaussian less correlation)\n",
    "    xgrav = dff[\"gravity\"] - goff\n",
    "    xalt = dff[\"altitude\"] - aoff\n",
    "    xyear = dff[\"year\"] - yoff\n",
    "    # uniform priors on each of the parameters (very broad priors)\n",
    "    pr_mg = pm.Uniform(\"mg\",-1000,1000)\n",
    "    pr_c = pm.Uniform(\"c\",-1000,1000)\n",
    "    pr_ma = pm.Uniform(\"ma\",-1000,1000)\n",
    "    pr_my = pm.Uniform(\"my\",-1000,1000)\n",
    "    # variance of noise\n",
    "    pr_sigma = pm.Uniform(\"sigma\",0,100)\n",
    "\n",
    "    model = data_model(xgrav,xalt, xyear,pr_mg, pr_ma, pr_my, pr_c)\n",
    "    # Gaussian likelihood \n",
    "    lik = pm.Normal(\"lik\", mu=model, sigma=pr_sigma, observed = np.squeeze(dff[\"finish_time\"]))\n",
    "\n",
    "    # setup sampler and generate samples from posterior \n",
    "    #step = pm.Slice()\n",
    "    mcmc_samples = pm.sample(2000)#, step=step)"
   ]
  },
  {
   "cell_type": "code",
   "execution_count": null,
   "id": "e568d1e6",
   "metadata": {},
   "outputs": [],
   "source": [
    "# create an array of posterior samples \n",
    "samps = np.array([\n",
    "    np.concatenate(np.array(mcmc_samples.posterior.mg)), \n",
    "    np.concatenate(np.array(mcmc_samples.posterior.ma)), \n",
    "    np.concatenate(np.array(mcmc_samples.posterior.my)),\n",
    "    np.concatenate(np.array(mcmc_samples.posterior.c))])"
   ]
  },
  {
   "cell_type": "code",
   "execution_count": null,
   "id": "7cdd9c29",
   "metadata": {},
   "outputs": [],
   "source": [
    "# plot corner plot of each parameter\n",
    "az.plot_pair(mcmc_samples, marginals=True)"
   ]
  },
  {
   "cell_type": "code",
   "execution_count": null,
   "metadata": {},
   "outputs": [],
   "source": [
    "# plot marginal posteriors foreach parameter\n",
    "az.plot_posterior(mcmc_samples)"
   ]
  },
  {
   "cell_type": "code",
   "execution_count": null,
   "metadata": {},
   "outputs": [],
   "source": [
    "fig, ax = plt.subplots()\n",
    "xdats = np.linspace(9.79, 9.82, 100)\n",
    "ydats = xdats*619 + 791.5 \n",
    "ax.plot(xdats, ydats)"
   ]
  },
  {
   "cell_type": "code",
   "execution_count": null,
   "id": "292233da",
   "metadata": {},
   "outputs": [],
   "source": [
    "ling = np.linspace(min(dff[\"gravity\"] - goff),max(dff[\"gravity\"] - goff), 10)\n",
    "lina = np.linspace(min(dff[\"altitude\"] - aoff),max(dff[\"altitude\"] - aoff), 10)\n",
    "liny = np.linspace(min(dff[\"year\"] - yoff),max(dff[\"year\"] - yoff), 10)\n",
    "\n",
    "x,y,z = np.meshgrid(ling, lina, liny, indexing=\"ij\")\n",
    "alldat = np.zeros((len(samps.T), len(ling), len(lina), len(liny)))\n",
    "for i, sample in enumerate(samps.T):\n",
    "    val = data_model(x,y,z, *sample)\n",
    "    alldat[i,:] = np.array(val)"
   ]
  },
  {
   "cell_type": "code",
   "execution_count": null,
   "id": "6b3eb494",
   "metadata": {},
   "outputs": [],
   "source": [
    "alldat[:,0].flatten()"
   ]
  },
  {
   "cell_type": "code",
   "execution_count": null,
   "id": "0af5e784",
   "metadata": {},
   "outputs": [],
   "source": [
    "quantsg = np.zeros((len(ling), 3))\n",
    "for i, v in enumerate(ling):\n",
    "    quantsg[i] = np.percentile(alldat[:,i].flatten(), [5,50,95])\n",
    "\n",
    "quantsa = np.zeros((len(lina), 3))\n",
    "for i, v in enumerate(lina):\n",
    "    quantsa[i] = np.percentile(alldat[:,:,i].flatten(), [5,50,95])\n",
    "\n",
    "quantsy = np.zeros((len(liny), 3))\n",
    "for i, v in enumerate(liny):\n",
    "    quantsy[i] = np.percentile(alldat[:,:,:,i].flatten(), [5,50,95])"
   ]
  },
  {
   "cell_type": "code",
   "execution_count": null,
   "id": "a26c1230",
   "metadata": {},
   "outputs": [],
   "source": [
    "fig, ax = plt.subplots(nrows=3, figsize=(10,11))\n",
    "ax[0].plot(dff[\"gravity\"], dff[\"finish_time\"],\".\")\n",
    "ax[0].plot(ling + goff, quantsg[:,1], color=\"C1\")\n",
    "ax[0].fill_between(ling + goff, quantsg[:,0], quantsg[:,2], color=\"C1\", alpha=0.5)\n",
    "ax[0].set_xlabel(\"gravity (g) [ms^-2]\")\n",
    "ax[0].set_ylabel(\"finish time [s]\")\n",
    "\n",
    "ax[1].plot(dff[\"altitude\"], dff[\"finish_time\"],\".\")\n",
    "ax[1].plot(lina + aoff, quantsa[:,1], color=\"C1\")\n",
    "ax[1].fill_between(lina + aoff, quantsa[:,0], quantsa[:,2], color=\"C1\", alpha=0.5)\n",
    "ax[1].set_xlabel(\"altitude [m]\")\n",
    "ax[1].set_ylabel(\"finish time [s]\")\n",
    "\n",
    "ax[2].plot(dff[\"year\"], dff[\"finish_time\"],\".\")\n",
    "ax[2].plot(liny + yoff, quantsy[:,1], color=\"C1\")\n",
    "ax[2].fill_between(liny+yoff, quantsy[:,0], quantsy[:,2], color=\"C1\", alpha=0.5)\n",
    "ax[2].set_xlabel(\"year\")\n",
    "ax[2].set_ylabel(\"finish time [s]\")"
   ]
  },
  {
   "cell_type": "code",
   "execution_count": null,
   "id": "d98e0518",
   "metadata": {},
   "outputs": [],
   "source": [
    "fig, ax = plt.subplots()\n",
    "ax.plot(dff[\"altitude\"], dff[\"finish_time\"],\".\")\n",
    "ax.plot(lina+aoff, quantsa[:,1], color=\"C1\")\n",
    "ax.fill_between(lina+aoff, quantsa[:,0], quantsa[:,2], color=\"C1\", alpha=0.5)\n",
    "ax.set_xlabel(\"altitude [m]\")\n",
    "ax.set_ylabel(\"finish time [s]\")"
   ]
  },
  {
   "cell_type": "code",
   "execution_count": null,
   "id": "fee3cd33",
   "metadata": {},
   "outputs": [],
   "source": [
    "fig, ax = plt.subplots()\n",
    "ax.plot(dff[\"year\"], dff[\"finish_time\"],\".\")\n",
    "ax.plot(liny+yoff, quantsy[:,1], color=\"C1\")\n",
    "ax.fill_between(liny+yoff, quantsy[:,0], quantsy[:,2], color=\"C1\", alpha=0.5)\n",
    "ax.set_xlabel(\"year\")\n",
    "ax.set_ylabel(\"finish time [s]\")"
   ]
  },
  {
   "cell_type": "code",
   "execution_count": null,
   "id": "315154aa",
   "metadata": {},
   "outputs": [],
   "source": [
    "fig, ax = plt.subplots(nrows=1, figsize=(10,12), subplot_kw={'projection': '3d'})\n",
    "ax.plot(dff[\"gravity\"], dff[\"altitude\"], dff[\"finish_time\"],\".\")\n",
    "ax.set_xlabel(\"gravity (g) [ms^-2]\")\n",
    "ax.set_zlabel(\"finish time [s]\")\n",
    "\n"
   ]
  },
  {
   "cell_type": "code",
   "execution_count": null,
   "metadata": {},
   "outputs": [],
   "source": []
  }
 ],
 "metadata": {
  "kernelspec": {
   "display_name": "general_parest",
   "language": "python",
   "name": "python3"
  },
  "language_info": {
   "codemirror_mode": {
    "name": "ipython",
    "version": 3
   },
   "file_extension": ".py",
   "mimetype": "text/x-python",
   "name": "python",
   "nbconvert_exporter": "python",
   "pygments_lexer": "ipython3",
   "version": "3.10.6"
  }
 },
 "nbformat": 4,
 "nbformat_minor": 5
}
